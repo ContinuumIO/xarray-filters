{
 "cells": [
  {
   "cell_type": "markdown",
   "metadata": {},
   "source": [
    "## MLDataset - Examples with Reshaping and Chaining Methods\n",
    "\n",
    "`xarray_filters.MLDataset` is a subclass of `xarray.Dataset` with methods for reshaping the `Dataset`'s `DataArray`s from time series, rasters, or N-D arrays into a single 2-D `DataArray` for input to statistical models.  \n",
    "\n",
    "The notebook works with the following methods of `MLDataset`s:\n",
    "\n",
    " * `MLDataset.to_features`: convert `DataArray`s of a `MLDataset` to a single 2-D `DataArray` by calling `.ravel()` on each `DataArray` (i.e. each `DataArray` to a single column)\n",
    " * `MLDataset.from_features`: convert a `MLDataset` with a single 2-D `DataArray` back to the original separate time series, rasters, or N-D arrays\n",
    " * `MLDataset.chain`: Calling `MLDataset.pipe` (`xarray.Dataset.pipe`) repeatedly for a `Sequence` of items that may be:\n",
    "   * a callable\n",
    "   * a `Sequence` composed of a callable followed by positional arguments and keyword arguments\n",
    "   * a `Sequence` of a string (assumed to be a `DataArray` method, e.g. `DataArray.quantile`) followed by positional arguments and keyword arguments"
   ]
  },
  {
   "cell_type": "code",
   "execution_count": 1,
   "metadata": {
    "collapsed": true
   },
   "outputs": [],
   "source": [
    "import numpy as np\n",
    "import xarray as xr\n",
    "from xarray_filters import *"
   ]
  },
  {
   "cell_type": "markdown",
   "metadata": {},
   "source": [
    "The following cell imports a function to create example `xarray_filters.MLDataset` objects."
   ]
  },
  {
   "cell_type": "code",
   "execution_count": 2,
   "metadata": {
    "collapsed": true
   },
   "outputs": [],
   "source": [
    "from xarray_filters.tests.test_data import new_test_dataset"
   ]
  },
  {
   "cell_type": "code",
   "execution_count": 3,
   "metadata": {
    "collapsed": true
   },
   "outputs": [],
   "source": [
    "X = new_test_dataset(layers=('temperature', 'pressure', 'wind_x', 'wind_y'))"
   ]
  },
  {
   "cell_type": "code",
   "execution_count": 4,
   "metadata": {},
   "outputs": [
    {
     "data": {
      "text/plain": [
       "<xarray.MLDataset>\n",
       "Dimensions:      (t: 48, x: 20, y: 15, z: 8)\n",
       "Coordinates:\n",
       "  * x            (x) int64 0 1 2 3 4 5 6 7 8 9 10 11 12 13 14 15 16 17 18 19\n",
       "  * y            (y) int64 0 1 2 3 4 5 6 7 8 9 10 11 12 13 14\n",
       "  * z            (z) int64 0 1 2 3 4 5 6 7\n",
       "  * t            (t) int64 0 1 2 3 4 5 6 7 8 9 10 11 12 13 14 15 16 17 18 19 ...\n",
       "Data variables:\n",
       "    temperature  (x, y, z, t) float64 0.7834 0.01429 0.09623 0.3987 0.796 ...\n",
       "    pressure     (x, y, z, t) float64 0.1834 0.3439 0.4344 0.06264 0.8126 ...\n",
       "    wind_x       (x, y, z, t) float64 0.7015 0.4172 0.9833 0.07133 0.5087 ...\n",
       "    wind_y       (x, y, z, t) float64 0.658 0.7856 0.9179 0.3296 0.2921 ..."
      ]
     },
     "execution_count": 4,
     "metadata": {},
     "output_type": "execute_result"
    }
   ],
   "source": [
    "X"
   ]
  },
  {
   "cell_type": "markdown",
   "metadata": {},
   "source": [
    "Methods of `MLDataset` that are not methods of `xarray.Dataset`:"
   ]
  },
  {
   "cell_type": "code",
   "execution_count": 5,
   "metadata": {},
   "outputs": [
    {
     "data": {
      "text/plain": [
       "{'chain', 'concat_ml_features', 'from_features', 'has_features', 'to_features'}"
      ]
     },
     "execution_count": 5,
     "metadata": {},
     "output_type": "execute_result"
    }
   ],
   "source": [
    "set(dir(MLDataset)) - set(dir(xr.Dataset))"
   ]
  },
  {
   "cell_type": "markdown",
   "metadata": {},
   "source": [
    "`MLDataset` works like an `xarray.Dataset`.  The following is converting 4-D arrays to 2-D arrays by taking the mean over the `z` and `t` dimensions."
   ]
  },
  {
   "cell_type": "code",
   "execution_count": 6,
   "metadata": {},
   "outputs": [
    {
     "data": {
      "text/plain": [
       "<xarray.MLDataset>\n",
       "Dimensions:      (x: 20, y: 15)\n",
       "Coordinates:\n",
       "  * x            (x) int64 0 1 2 3 4 5 6 7 8 9 10 11 12 13 14 15 16 17 18 19\n",
       "  * y            (y) int64 0 1 2 3 4 5 6 7 8 9 10 11 12 13 14\n",
       "Data variables:\n",
       "    temperature  (x, y) float64 0.4747 0.4868 0.5182 0.472 0.4955 0.515 ...\n",
       "    pressure     (x, y) float64 0.4853 0.4908 0.4898 0.502 0.5125 0.4918 ...\n",
       "    wind_x       (x, y) float64 0.524 0.4942 0.4913 0.4994 0.4807 0.5008 ...\n",
       "    wind_y       (x, y) float64 0.5168 0.5054 0.4896 0.4873 0.4955 0.4959 ..."
      ]
     },
     "execution_count": 6,
     "metadata": {},
     "output_type": "execute_result"
    }
   ],
   "source": [
    "X_means_raster = X.mean(dim=('z', 't'))\n",
    "X_means_raster"
   ]
  },
  {
   "cell_type": "markdown",
   "metadata": {},
   "source": [
    "### `xarray_filters.MLDataset.to_features`\n",
    "`to_features()` below converts each 4-D array of `X` to a column and concatenates the columns into a single `DataArray`.  See optional arguments to `to_features` for controlling the name of the 2-D `DataArray` (`features_layer='features'` by default) and the row and column dimension names (`(space, layer)` by default).  "
   ]
  },
  {
   "cell_type": "code",
   "execution_count": 7,
   "metadata": {},
   "outputs": [
    {
     "data": {
      "text/plain": [
       "<xarray.MLDataset>\n",
       "Dimensions:   (layer: 4, space: 115200)\n",
       "Coordinates:\n",
       "  * space     (space) MultiIndex\n",
       "  - x         (space) int64 0 0 0 0 0 0 0 0 0 0 0 0 0 0 0 0 0 0 0 0 0 0 0 0 ...\n",
       "  - y         (space) int64 0 0 0 0 0 0 0 0 0 0 0 0 0 0 0 0 0 0 0 0 0 0 0 0 ...\n",
       "  - z         (space) int64 0 0 0 0 0 0 0 0 0 0 0 0 0 0 0 0 0 0 0 0 0 0 0 0 ...\n",
       "  - t         (space) int64 0 1 2 3 4 5 6 7 8 9 10 11 12 13 14 15 16 17 18 ...\n",
       "  * layer     (layer) object 'temperature' 'pressure' 'wind_x' 'wind_y'\n",
       "Data variables:\n",
       "    features  (space, layer) float64 0.7834 0.1834 0.7015 0.658 0.01429 ..."
      ]
     },
     "execution_count": 7,
     "metadata": {},
     "output_type": "execute_result"
    }
   ],
   "source": [
    "f = X.to_features()\n",
    "f"
   ]
  },
  {
   "cell_type": "markdown",
   "metadata": {},
   "source": [
    "Note that the `features` `DataArray` preserves the original coordinates of the 4-D arrays by creating a `pandas.MultiIndex`.  This allows calling `from_features` later to reshape into the 4-D array shapes, even if rows from the `features` `DataArray` are dropped, e.g. as in the case of dropping rows with `NaN` values."
   ]
  },
  {
   "cell_type": "code",
   "execution_count": 8,
   "metadata": {},
   "outputs": [
    {
     "data": {
      "text/plain": [
       "<xarray.DataArray 'space' (space: 115200)>\n",
       "array([(0, 0, 0, 0), (0, 0, 0, 1), (0, 0, 0, 2), ..., (19, 14, 7, 45),\n",
       "       (19, 14, 7, 46), (19, 14, 7, 47)], dtype=object)\n",
       "Coordinates:\n",
       "  * space    (space) MultiIndex\n",
       "  - x        (space) int64 0 0 0 0 0 0 0 0 0 0 0 0 0 0 0 0 0 0 0 0 0 0 0 0 0 ...\n",
       "  - y        (space) int64 0 0 0 0 0 0 0 0 0 0 0 0 0 0 0 0 0 0 0 0 0 0 0 0 0 ...\n",
       "  - z        (space) int64 0 0 0 0 0 0 0 0 0 0 0 0 0 0 0 0 0 0 0 0 0 0 0 0 0 ...\n",
       "  - t        (space) int64 0 1 2 3 4 5 6 7 8 9 10 11 12 13 14 15 16 17 18 19 ..."
      ]
     },
     "execution_count": 8,
     "metadata": {},
     "output_type": "execute_result"
    }
   ],
   "source": [
    "f.space"
   ]
  },
  {
   "cell_type": "markdown",
   "metadata": {},
   "source": [
    "The columns of the `features` `DataArray` are named by the `layer` that was flattened from 4-D to a 1-D column.  Usage of `OrderedDict` throughout `MLDataset` internals ensures that the `layers` (`DataArray`s) always iterate into the same column order."
   ]
  },
  {
   "cell_type": "code",
   "execution_count": 9,
   "metadata": {},
   "outputs": [
    {
     "data": {
      "text/plain": [
       "<xarray.DataArray 'layer' (layer: 4)>\n",
       "array(['temperature', 'pressure', 'wind_x', 'wind_y'], dtype=object)\n",
       "Coordinates:\n",
       "  * layer    (layer) object 'temperature' 'pressure' 'wind_x' 'wind_y'"
      ]
     },
     "execution_count": 9,
     "metadata": {},
     "output_type": "execute_result"
    }
   ],
   "source": [
    "f.layer"
   ]
  },
  {
   "cell_type": "markdown",
   "metadata": {},
   "source": [
    "Showing the first few `(x, y, z, t)` coordinates of the `pandas.MultiIndex` `space`:"
   ]
  },
  {
   "cell_type": "code",
   "execution_count": 10,
   "metadata": {},
   "outputs": [
    {
     "data": {
      "text/plain": [
       "[(0, 0, 0, 0), (0, 0, 0, 1), (0, 0, 0, 2), (0, 0, 0, 3)]"
      ]
     },
     "execution_count": 10,
     "metadata": {},
     "output_type": "execute_result"
    }
   ],
   "source": [
    "f.space.indexes['space'].tolist()[:4]"
   ]
  },
  {
   "cell_type": "code",
   "execution_count": 11,
   "metadata": {},
   "outputs": [
    {
     "data": {
      "text/plain": [
       "FrozenList(['x', 'y', 'z', 't'])"
      ]
     },
     "execution_count": 11,
     "metadata": {},
     "output_type": "execute_result"
    }
   ],
   "source": [
    "f.space.indexes['space'].names"
   ]
  },
  {
   "cell_type": "markdown",
   "metadata": {
    "collapsed": true
   },
   "source": [
    "It is also possible to transpose the `layers` before calling `.ravel()` on each one (the usage of the `trans_dims` keyword to `to_features()`):"
   ]
  },
  {
   "cell_type": "code",
   "execution_count": 12,
   "metadata": {},
   "outputs": [
    {
     "data": {
      "text/plain": [
       "<xarray.MLDataset>\n",
       "Dimensions:   (layer: 4, space: 5760)\n",
       "Coordinates:\n",
       "  * space     (space) MultiIndex\n",
       "  - t         (space) int64 0 0 0 0 0 0 0 0 0 0 0 0 0 0 0 0 0 0 0 0 0 0 0 0 ...\n",
       "  - z         (space) int64 0 0 0 0 0 0 0 0 0 0 0 0 0 0 0 1 1 1 1 1 1 1 1 1 ...\n",
       "  - y         (space) int64 0 1 2 3 4 5 6 7 8 9 10 11 12 13 14 0 1 2 3 4 5 6 ...\n",
       "  * layer     (layer) object 'temperature' 'pressure' 'wind_x' 'wind_y'\n",
       "Data variables:\n",
       "    features  (space, layer) float64 0.5368 0.3778 0.5543 0.5802 0.4907 ..."
      ]
     },
     "execution_count": 12,
     "metadata": {},
     "output_type": "execute_result"
    }
   ],
   "source": [
    "example2 = X.mean(dim='x').to_features(trans_dims=('t', 'z', 'y'))\n",
    "example2"
   ]
  },
  {
   "cell_type": "markdown",
   "metadata": {},
   "source": [
    "### `data_vars_func` decorator\n",
    "The `data_vars_func` decorator allows writing a function that takes named `layers` as keywords or positional arguments.  In the example below, it is assumed that the decorated `magnitude` function will be passed to `X.chain` in situations where `X` has `layers` named `wind_x`, `wind_y`.  All other `data_vars` keys/values are passed as `other_data_vars` keyword arguments."
   ]
  },
  {
   "cell_type": "code",
   "execution_count": 13,
   "metadata": {},
   "outputs": [
    {
     "data": {
      "text/plain": [
       "<xarray.MLDataset>\n",
       "Dimensions:    (layer: 1, space: 115200)\n",
       "Coordinates:\n",
       "  * space      (space) MultiIndex\n",
       "  - x          (space) int64 0 0 0 0 0 0 0 0 0 0 0 0 0 0 0 0 0 0 0 0 0 0 0 0 ...\n",
       "  - y          (space) int64 0 0 0 0 0 0 0 0 0 0 0 0 0 0 0 0 0 0 0 0 0 0 0 0 ...\n",
       "  - z          (space) int64 0 0 0 0 0 0 0 0 0 0 0 0 0 0 0 0 0 0 0 0 0 0 0 0 ...\n",
       "  - t          (space) int64 0 1 2 3 4 5 6 7 8 9 10 11 12 13 14 15 16 17 18 ...\n",
       "  * layer      (layer) object 'magnitude'\n",
       "Data variables:\n",
       "    magnitude  (space, layer) float64 0.9619 0.8895 1.345 0.3372 0.5866 ..."
      ]
     },
     "execution_count": 13,
     "metadata": {},
     "output_type": "execute_result"
    }
   ],
   "source": [
    "@data_vars_func\n",
    "def magnitude(wind_x, wind_y, **other_data_vars):\n",
    "    a2 = wind_x ** 2\n",
    "    b2 = wind_y ** 2\n",
    "    mag = (a2 + b2) ** 0.5\n",
    "    return dict(magnitude=mag)\n",
    "X.chain(magnitude, layers=['wind_x', 'wind_y']).to_features(features_layer='magnitude')"
   ]
  },
  {
   "cell_type": "markdown",
   "metadata": {},
   "source": [
    "### `for_each_array` decorator\n",
    "`for_each_array` allows automates calling a function that takes a `DataArray` argument and returns a `DataArray` for each `DataArray` (`layer`) in a `MLDataset`:"
   ]
  },
  {
   "cell_type": "code",
   "execution_count": 14,
   "metadata": {
    "collapsed": true
   },
   "outputs": [],
   "source": [
    "@for_each_array\n",
    "def plus_one(arr, **kw):\n",
    "    return arr + 1\n",
    "\n",
    "@for_each_array\n",
    "def minus_one(arr, **kw):\n",
    "    return arr - 1\n",
    "\n",
    "\n",
    "plus = X.chain(plus_one)\n",
    "minus = X.chain(minus_one)\n",
    "\n",
    "assert np.all(plus.wind_x - minus.wind_x == 2.)\n",
    "assert np.all(plus.temperature - minus.temperature == 2.)"
   ]
  },
  {
   "cell_type": "code",
   "execution_count": 15,
   "metadata": {},
   "outputs": [
    {
     "data": {
      "text/plain": [
       "<xarray.MLDataset>\n",
       "Dimensions:      (t: 48, x: 20, y: 15, z: 8)\n",
       "Coordinates:\n",
       "  * x            (x) int64 0 1 2 3 4 5 6 7 8 9 10 11 12 13 14 15 16 17 18 19\n",
       "  * y            (y) int64 0 1 2 3 4 5 6 7 8 9 10 11 12 13 14\n",
       "  * z            (z) int64 0 1 2 3 4 5 6 7\n",
       "  * t            (t) int64 0 1 2 3 4 5 6 7 8 9 10 11 12 13 14 15 16 17 18 19 ...\n",
       "    quantile     float64 0.5\n",
       "Data variables:\n",
       "    temperature  (x, y, z, t) float64 1.161 -0.9847 -1.321 -0.6079 0.4967 ...\n",
       "    pressure     (x, y, z, t) float64 -0.6144 0.04393 -0.0398 -0.3017 0.9494 ...\n",
       "    wind_x       (x, y, z, t) float64 0.5866 -0.552 0.8789 -2.302 -0.2759 ...\n",
       "    wind_y       (x, y, z, t) float64 0.2814 0.4859 0.7806 -0.9098 -0.2132 ..."
      ]
     },
     "execution_count": 15,
     "metadata": {},
     "output_type": "execute_result"
    }
   ],
   "source": [
    "@for_each_array\n",
    "def transform_example(arr, **kw):\n",
    "    up = arr.quantile(0.75, dim='z')\n",
    "    low = arr.quantile(0.25, dim='z')\n",
    "    median = arr.quantile(0.5, dim='z')\n",
    "    return (arr - median) / (up - low)\n",
    "\n",
    "X.chain(transform_example)"
   ]
  },
  {
   "cell_type": "code",
   "execution_count": 16,
   "metadata": {
    "collapsed": true
   },
   "outputs": [],
   "source": [
    "@for_each_array\n",
    "def agg_example(arr, **kw):\n",
    "    return arr.mean(dim='t').quantile(0.25, dim='z')\n",
    "\n",
    "aggregated = X.chain((transform_example, agg_example))"
   ]
  },
  {
   "cell_type": "code",
   "execution_count": 17,
   "metadata": {},
   "outputs": [
    {
     "data": {
      "text/plain": [
       "<xarray.MLDataset>\n",
       "Dimensions:      (x: 20, y: 15)\n",
       "Coordinates:\n",
       "  * x            (x) int64 0 1 2 3 4 5 6 7 8 9 10 11 12 13 14 15 16 17 18 19\n",
       "  * y            (y) int64 0 1 2 3 4 5 6 7 8 9 10 11 12 13 14\n",
       "    quantile     float64 0.25\n",
       "Data variables:\n",
       "    temperature  (x, y) float64 -0.06935 -0.08409 -0.1278 -0.03797 -0.09637 ...\n",
       "    pressure     (x, y) float64 -0.04355 -0.01633 -0.02807 -0.05753 0.02403 ...\n",
       "    wind_x       (x, y) float64 -0.05455 -0.01381 0.009585 -0.0417 -0.0842 ...\n",
       "    wind_y       (x, y) float64 -0.1077 -0.04966 -0.06329 -0.0489 -0.08314 ..."
      ]
     },
     "execution_count": 17,
     "metadata": {},
     "output_type": "execute_result"
    }
   ],
   "source": [
    "aggregated"
   ]
  },
  {
   "cell_type": "markdown",
   "metadata": {},
   "source": [
    "With `data_vars_func` decorated functions, anything `dict`-like, an `MLDataset` or `xarray.Dataset` may be returned and it will be converted to `MLDataset`:"
   ]
  },
  {
   "cell_type": "code",
   "execution_count": 18,
   "metadata": {},
   "outputs": [
    {
     "data": {
      "text/plain": [
       "<xarray.MLDataset>\n",
       "Dimensions:      (t: 48, x: 20, y: 15, z: 8)\n",
       "Coordinates:\n",
       "  * x            (x) int64 0 1 2 3 4 5 6 7 8 9 10 11 12 13 14 15 16 17 18 19\n",
       "  * y            (y) int64 0 1 2 3 4 5 6 7 8 9 10 11 12 13 14\n",
       "  * z            (z) int64 0 1 2 3 4 5 6 7\n",
       "  * t            (t) int64 0 1 2 3 4 5 6 7 8 9 10 11 12 13 14 15 16 17 18 19 ...\n",
       "Data variables:\n",
       "    mag          (x, y, z, t) float64 0.9619 0.8895 1.345 0.3372 0.5866 ...\n",
       "    temperature  (x, y, z, t) float64 0.7834 0.01429 0.09623 0.3987 0.796 ...\n",
       "    pressure     (x, y, z, t) float64 0.1834 0.3439 0.4344 0.06264 0.8126 ..."
      ]
     },
     "execution_count": 18,
     "metadata": {},
     "output_type": "execute_result"
    }
   ],
   "source": [
    "from collections import OrderedDict\n",
    "@data_vars_func\n",
    "def f(wind_x, wind_y, temperature, pressure):\n",
    "    mag = (wind_x ** 2 + wind_y ** 2) ** 0.5\n",
    "    return OrderedDict([('mag', mag), ('temperature', temperature), ('pressure', pressure)])\n",
    "\n",
    "f(X)"
   ]
  },
  {
   "cell_type": "code",
   "execution_count": 19,
   "metadata": {},
   "outputs": [
    {
     "data": {
      "text/plain": [
       "<xarray.MLDataset>\n",
       "Dimensions:   (layer: 3, space: 115200)\n",
       "Coordinates:\n",
       "  * space     (space) MultiIndex\n",
       "  - x         (space) int64 0 0 0 0 0 0 0 0 0 0 0 0 0 0 0 0 0 0 0 0 0 0 0 0 ...\n",
       "  - y         (space) int64 0 0 0 0 0 0 0 0 0 0 0 0 0 0 0 0 0 0 0 0 0 0 0 0 ...\n",
       "  - z         (space) int64 0 0 0 0 0 0 0 0 0 0 0 0 0 0 0 0 0 0 0 0 0 0 0 0 ...\n",
       "  - t         (space) int64 0 1 2 3 4 5 6 7 8 9 10 11 12 13 14 15 16 17 18 ...\n",
       "  * layer     (layer) object 'mag' 'temperature' 'pressure'\n",
       "Data variables:\n",
       "    features  (space, layer) float64 0.9619 0.7834 0.1834 0.8895 0.01429 ..."
      ]
     },
     "execution_count": 19,
     "metadata": {},
     "output_type": "execute_result"
    }
   ],
   "source": [
    "feat = f(X).to_features()\n",
    "feat"
   ]
  },
  {
   "cell_type": "code",
   "execution_count": 20,
   "metadata": {},
   "outputs": [
    {
     "data": {
      "text/plain": [
       "<xarray.DataArray 'features' (space: 115200, layer: 3)>\n",
       "array([[ 0.961853,  0.783353,  0.183358],\n",
       "       [ 0.889498,  0.01429 ,  0.343931],\n",
       "       [ 1.345139,  0.09623 ,  0.434426],\n",
       "       ..., \n",
       "       [ 0.571369,  0.103416,  0.233513],\n",
       "       [ 1.040656,  0.258218,  0.518165],\n",
       "       [ 0.962929,  0.610584,  0.887188]])\n",
       "Coordinates:\n",
       "  * space    (space) MultiIndex\n",
       "  - x        (space) int64 0 0 0 0 0 0 0 0 0 0 0 0 0 0 0 0 0 0 0 0 0 0 0 0 0 ...\n",
       "  - y        (space) int64 0 0 0 0 0 0 0 0 0 0 0 0 0 0 0 0 0 0 0 0 0 0 0 0 0 ...\n",
       "  - z        (space) int64 0 0 0 0 0 0 0 0 0 0 0 0 0 0 0 0 0 0 0 0 0 0 0 0 0 ...\n",
       "  - t        (space) int64 0 1 2 3 4 5 6 7 8 9 10 11 12 13 14 15 16 17 18 19 ...\n",
       "  * layer    (layer) object 'mag' 'temperature' 'pressure'"
      ]
     },
     "execution_count": 20,
     "metadata": {},
     "output_type": "execute_result"
    }
   ],
   "source": [
    "feat.features"
   ]
  },
  {
   "cell_type": "code",
   "execution_count": 21,
   "metadata": {},
   "outputs": [
    {
     "data": {
      "text/plain": [
       "array([[ 0.96185279,  0.7833532 ,  0.18335759],\n",
       "       [ 0.88949826,  0.01428978,  0.34393149],\n",
       "       [ 1.34513925,  0.09622997,  0.4344256 ],\n",
       "       ..., \n",
       "       [ 0.57136909,  0.10341648,  0.23351262],\n",
       "       [ 1.04065553,  0.25821825,  0.51816505],\n",
       "       [ 0.96292909,  0.61058403,  0.887188  ]])"
      ]
     },
     "execution_count": 21,
     "metadata": {},
     "output_type": "execute_result"
    }
   ],
   "source": [
    "feat.features.values"
   ]
  },
  {
   "cell_type": "markdown",
   "metadata": {},
   "source": [
    "### `xarray_filters.MLDataset.chain`\n",
    "\n",
    "`.chain` can be called on an `MLDataset` to run callables in sequence, passing an `MLDataset` between steps."
   ]
  },
  {
   "cell_type": "code",
   "execution_count": 22,
   "metadata": {
    "scrolled": false
   },
   "outputs": [
    {
     "data": {
      "text/plain": [
       "<xarray.MLDataset>\n",
       "Dimensions:      (t: 48)\n",
       "Coordinates:\n",
       "  * t            (t) int64 0 1 2 3 4 5 6 7 8 9 10 11 12 13 14 15 16 17 18 19 ...\n",
       "Data variables:\n",
       "    temperature  (t) float64 0.4894 0.5027 0.5047 0.4985 0.495 0.505 0.4899 ...\n",
       "    pressure     (t) float64 0.5004 0.5105 0.4937 0.505 0.4969 0.4914 0.5059 ...\n",
       "    wind_x       (t) float64 0.507 0.4932 0.5038 0.4979 0.5018 0.5064 0.5015 ...\n",
       "    wind_y       (t) float64 0.4997 0.5038 0.4837 0.5098 0.5007 0.5045 ..."
      ]
     },
     "execution_count": 22,
     "metadata": {},
     "output_type": "execute_result"
    }
   ],
   "source": [
    "@for_each_array\n",
    "def agg_x(arr, **kw):\n",
    "    return arr.mean(dim='x')\n",
    "\n",
    "@for_each_array\n",
    "def agg_y(arr, **kw):\n",
    "    return arr.mean(dim='y')\n",
    "\n",
    "@for_each_array\n",
    "def agg_z(arr, **kw):\n",
    "    return arr.mean(dim='z')\n",
    "\n",
    "\n",
    "time_series = X.chain((agg_x, agg_y, agg_z))\n",
    "time_series"
   ]
  },
  {
   "cell_type": "code",
   "execution_count": 23,
   "metadata": {},
   "outputs": [
    {
     "data": {
      "text/plain": [
       "<xarray.DataArray 'features' (t: 48, layer: 4)>\n",
       "array([[ 0.489435,  0.500388,  0.506969,  0.499719],\n",
       "       [ 0.502653,  0.510548,  0.493246,  0.503789],\n",
       "       [ 0.504696,  0.493682,  0.503837,  0.483678],\n",
       "       [ 0.498458,  0.504962,  0.497936,  0.509782],\n",
       "       [ 0.495021,  0.49691 ,  0.501802,  0.500716],\n",
       "       [ 0.50496 ,  0.491416,  0.506407,  0.504466],\n",
       "       [ 0.489902,  0.505911,  0.501499,  0.490181],\n",
       "       [ 0.491742,  0.503711,  0.499072,  0.496724],\n",
       "       [ 0.499646,  0.503898,  0.495835,  0.495929],\n",
       "       [ 0.500161,  0.497577,  0.492006,  0.497488],\n",
       "       [ 0.501137,  0.50201 ,  0.497537,  0.501166],\n",
       "       [ 0.504312,  0.503931,  0.505468,  0.49453 ],\n",
       "       [ 0.502633,  0.499254,  0.496469,  0.496817],\n",
       "       [ 0.495249,  0.492976,  0.501345,  0.500524],\n",
       "       [ 0.497719,  0.492521,  0.502393,  0.507621],\n",
       "       [ 0.505877,  0.497034,  0.499893,  0.496671],\n",
       "       [ 0.499644,  0.499203,  0.497065,  0.503747],\n",
       "       [ 0.510594,  0.495226,  0.497582,  0.509192],\n",
       "       [ 0.50661 ,  0.496324,  0.494142,  0.505803],\n",
       "       [ 0.496031,  0.49326 ,  0.502532,  0.507075],\n",
       "       [ 0.496698,  0.503967,  0.500833,  0.503957],\n",
       "       [ 0.493343,  0.503737,  0.507751,  0.50027 ],\n",
       "       [ 0.501047,  0.50118 ,  0.499854,  0.491051],\n",
       "       [ 0.499872,  0.503782,  0.497505,  0.490919],\n",
       "       [ 0.50207 ,  0.511562,  0.50349 ,  0.498144],\n",
       "       [ 0.502881,  0.50034 ,  0.509964,  0.504773],\n",
       "       [ 0.496556,  0.503529,  0.503274,  0.500124],\n",
       "       [ 0.504891,  0.504312,  0.492802,  0.510422],\n",
       "       [ 0.494811,  0.493304,  0.502655,  0.497423],\n",
       "       [ 0.497826,  0.484613,  0.496868,  0.512945],\n",
       "       [ 0.50049 ,  0.495021,  0.482862,  0.50114 ],\n",
       "       [ 0.505512,  0.503539,  0.488381,  0.505026],\n",
       "       [ 0.508305,  0.495574,  0.498015,  0.4971  ],\n",
       "       [ 0.506702,  0.499754,  0.490789,  0.500879],\n",
       "       [ 0.503531,  0.50309 ,  0.504599,  0.502924],\n",
       "       [ 0.493626,  0.493635,  0.501606,  0.50016 ],\n",
       "       [ 0.499275,  0.499187,  0.496163,  0.500814],\n",
       "       [ 0.499486,  0.499997,  0.508751,  0.501719],\n",
       "       [ 0.502614,  0.509597,  0.495564,  0.501007],\n",
       "       [ 0.504109,  0.498364,  0.497836,  0.504786],\n",
       "       [ 0.500826,  0.49233 ,  0.497066,  0.506715],\n",
       "       [ 0.49378 ,  0.496577,  0.501843,  0.506519],\n",
       "       [ 0.502905,  0.499397,  0.498974,  0.50143 ],\n",
       "       [ 0.496352,  0.498873,  0.502477,  0.494845],\n",
       "       [ 0.497454,  0.50443 ,  0.496014,  0.497016],\n",
       "       [ 0.506838,  0.497924,  0.507052,  0.498633],\n",
       "       [ 0.499942,  0.494055,  0.495063,  0.496825],\n",
       "       [ 0.496403,  0.495643,  0.497156,  0.502123]])\n",
       "Coordinates:\n",
       "  * t        (t) int64 0 1 2 3 4 5 6 7 8 9 10 11 12 13 14 15 16 17 18 19 20 ...\n",
       "  * layer    (layer) object 'temperature' 'pressure' 'wind_x' 'wind_y'"
      ]
     },
     "execution_count": 23,
     "metadata": {},
     "output_type": "execute_result"
    }
   ],
   "source": [
    "time_series.to_features().features"
   ]
  },
  {
   "cell_type": "code",
   "execution_count": 24,
   "metadata": {},
   "outputs": [
    {
     "data": {
      "text/plain": [
       "True"
      ]
     },
     "execution_count": 24,
     "metadata": {},
     "output_type": "execute_result"
    }
   ],
   "source": [
    "np.all(time_series.to_features().from_features().temperature == time_series.temperature)"
   ]
  },
  {
   "cell_type": "markdown",
   "metadata": {},
   "source": [
    "Creating some synthetic rasters in `MLDataset` that are similar to LANDSAT imagery with 8 spectral bands:"
   ]
  },
  {
   "cell_type": "code",
   "execution_count": 25,
   "metadata": {},
   "outputs": [
    {
     "data": {
      "text/plain": [
       "<xarray.MLDataset>\n",
       "Dimensions:  (x: 200, y: 200)\n",
       "Coordinates:\n",
       "  * x        (x) int64 0 1 2 3 4 5 6 7 8 9 10 11 12 13 14 15 16 17 18 19 20 ...\n",
       "  * y        (y) int64 0 1 2 3 4 5 6 7 8 9 10 11 12 13 14 15 16 17 18 19 20 ...\n",
       "Data variables:\n",
       "    band_1   (x, y) float64 0.6134 -1.646 -0.3666 -1.608 0.08411 -1.401 ...\n",
       "    band_2   (x, y) float64 1.617 -1.592 0.613 -0.4155 0.002528 -0.9831 ...\n",
       "    band_3   (x, y) float64 0.65 -0.06426 -0.926 0.9073 -0.3103 1.595 0.807 ...\n",
       "    band_4   (x, y) float64 0.2165 -0.6776 1.759 0.3044 0.3617 1.512 0.02728 ...\n",
       "    band_5   (x, y) float64 0.539 -0.6671 0.1346 -1.231 -1.643 0.3514 0.4706 ...\n",
       "    band_6   (x, y) float64 -0.2563 0.6217 -0.1454 -0.1024 -0.6704 -1.26 ...\n",
       "    band_7   (x, y) float64 -0.7994 -0.1967 0.2357 0.2029 0.1077 1.316 ...\n",
       "    band_8   (x, y) float64 1.03 1.131 1.54 1.579 0.4304 1.403 -1.142 -2.003 ..."
      ]
     },
     "execution_count": 25,
     "metadata": {},
     "output_type": "execute_result"
    }
   ],
   "source": [
    "layers = ['band_{}'.format(idx) for idx in range(1, 9)]\n",
    "shape = (200, 200)\n",
    "rand_np_arr = lambda: np.random.normal(0, 1, shape)\n",
    "coords = [('x', np.arange(shape[0])), ('y', np.arange(shape[1]))]\n",
    "rand_data_arr = lambda: xr.DataArray(rand_np_arr(), coords=coords, dims=('x', 'y'))\n",
    "data_vars = OrderedDict([(layer, rand_data_arr()) for layer in layers])\n",
    "dset = MLDataset(data_vars)\n",
    "dset"
   ]
  },
  {
   "cell_type": "markdown",
   "metadata": {},
   "source": [
    "Examples of chaining callables that use `for_each_array` and `data_vars_func` as decorators, where the example functions also show the variety of return data types allowed in functions decorated by `data_vars_func`.\n",
    "\n",
    "Note the `keep_arrays=True` keyword argument in the function prototypes - this means that the original `layers` passed into the decorated functions will be part of the `MLDataset` outputs, even if the decorated functions do not return them."
   ]
  },
  {
   "cell_type": "code",
   "execution_count": 26,
   "metadata": {
    "scrolled": false
   },
   "outputs": [],
   "source": [
    "from functools import partial\n",
    "@for_each_array\n",
    "def standardize(arr, dim=None, **kw):\n",
    "    mean = arr.mean(dim=dim)\n",
    "    std = arr.std(dim=dim)\n",
    "    return (arr - mean) / std\n",
    "\n",
    "@data_vars_func\n",
    "def ndvi(band_5, band_4, keep_arrays=True):\n",
    "    return OrderedDict([('ndvi', (band_5 - band_4) / (band_5 + band_4))])\n",
    "\n",
    "\n",
    "@data_vars_func\n",
    "def ndwi(band_3, band_5, keep_arrays=True, **kw):\n",
    "    return {'ndwi': (band_3 - band_5) / (band_3 + band_5)}\n",
    "\n",
    "\n",
    "@data_vars_func\n",
    "def mndwi_36(band_3, band_6, keep_arrays=True):\n",
    "    return xr.Dataset({'mndwi_36': (band_3 - band_6) / (band_3 + band_6)})\n",
    "\n",
    "\n",
    "@data_vars_func\n",
    "def mndwi_37(band_3, band_7, keep_arrays=True):\n",
    "    return MLDataset(OrderedDict([('mndwi_37', (band_3 - band_7) / (band_3 + band_7))]))\n",
    "\n",
    "normed_diffs = dset.chain((ndvi, ndwi, mndwi_36, mndwi_37))\n",
    "standardized = dset.chain(partial(standardize, dim='x'))"
   ]
  },
  {
   "cell_type": "code",
   "execution_count": 27,
   "metadata": {},
   "outputs": [
    {
     "data": {
      "text/plain": [
       "<xarray.MLDataset>\n",
       "Dimensions:   (x: 200, y: 200)\n",
       "Coordinates:\n",
       "  * x         (x) int64 0 1 2 3 4 5 6 7 8 9 10 11 12 13 14 15 16 17 18 19 20 ...\n",
       "  * y         (y) int64 0 1 2 3 4 5 6 7 8 9 10 11 12 13 14 15 16 17 18 19 20 ...\n",
       "Data variables:\n",
       "    mndwi_37  (x, y) float64 -9.704 -0.5075 1.683 0.6344 2.064 0.09571 ...\n",
       "    mndwi_36  (x, y) float64 2.302 -1.231 0.7286 1.254 -0.3673 8.514 ...\n",
       "    ndwi      (x, y) float64 0.09338 -0.8243 1.34 -6.597 -0.6823 0.6389 ...\n",
       "    ndvi      (x, y) float64 0.4268 -0.007786 -0.8579 1.657 1.565 -0.6228 ...\n",
       "    band_1    (x, y) float64 0.6134 -1.646 -0.3666 -1.608 0.08411 -1.401 ...\n",
       "    band_2    (x, y) float64 1.617 -1.592 0.613 -0.4155 0.002528 -0.9831 ...\n",
       "    band_3    (x, y) float64 0.65 -0.06426 -0.926 0.9073 -0.3103 1.595 0.807 ...\n",
       "    band_4    (x, y) float64 0.2165 -0.6776 1.759 0.3044 0.3617 1.512 ...\n",
       "    band_5    (x, y) float64 0.539 -0.6671 0.1346 -1.231 -1.643 0.3514 ...\n",
       "    band_6    (x, y) float64 -0.2563 0.6217 -0.1454 -0.1024 -0.6704 -1.26 ...\n",
       "    band_7    (x, y) float64 -0.7994 -0.1967 0.2357 0.2029 0.1077 1.316 ...\n",
       "    band_8    (x, y) float64 1.03 1.131 1.54 1.579 0.4304 1.403 -1.142 ..."
      ]
     },
     "execution_count": 27,
     "metadata": {},
     "output_type": "execute_result"
    }
   ],
   "source": [
    "normed_diffs"
   ]
  },
  {
   "cell_type": "code",
   "execution_count": 28,
   "metadata": {},
   "outputs": [
    {
     "data": {
      "text/plain": [
       "<xarray.MLDataset>\n",
       "Dimensions:  (x: 200, y: 200)\n",
       "Coordinates:\n",
       "  * x        (x) int64 0 1 2 3 4 5 6 7 8 9 10 11 12 13 14 15 16 17 18 19 20 ...\n",
       "  * y        (y) int64 0 1 2 3 4 5 6 7 8 9 10 11 12 13 14 15 16 17 18 19 20 ...\n",
       "Data variables:\n",
       "    band_1   (x, y) float64 0.5198 -1.781 -0.2804 -1.501 0.2069 -1.536 -1.08 ...\n",
       "    band_2   (x, y) float64 1.636 -1.515 0.647 -0.259 -0.07859 -1.042 1.723 ...\n",
       "    band_3   (x, y) float64 0.6481 0.01808 -0.82 0.9569 -0.3674 1.732 0.8329 ...\n",
       "    band_4   (x, y) float64 0.2751 -0.7244 1.688 0.3105 0.373 1.473 -0.03129 ...\n",
       "    band_5   (x, y) float64 0.5338 -0.7055 0.1548 -1.268 -1.476 0.2677 ...\n",
       "    band_6   (x, y) float64 -0.1832 0.5361 -0.03936 -0.145 -0.5835 -1.34 ...\n",
       "    band_7   (x, y) float64 -0.7773 -0.2383 0.2057 0.2167 0.03876 1.402 ...\n",
       "    band_8   (x, y) float64 0.9814 1.22 1.467 1.646 0.3285 1.242 -1.166 ..."
      ]
     },
     "execution_count": 28,
     "metadata": {},
     "output_type": "execute_result"
    }
   ],
   "source": [
    "standardized"
   ]
  },
  {
   "cell_type": "markdown",
   "metadata": {},
   "source": [
    "Merging two `MLDataset`s and converting the merged output to a features 2-D `DataArray`:"
   ]
  },
  {
   "cell_type": "code",
   "execution_count": 29,
   "metadata": {
    "collapsed": true
   },
   "outputs": [],
   "source": [
    "catted = normed_diffs.merge(standardized, overwrite_vars=standardized.data_vars.keys())\n",
    "catted = catted.to_features()"
   ]
  },
  {
   "cell_type": "code",
   "execution_count": 30,
   "metadata": {},
   "outputs": [
    {
     "data": {
      "text/plain": [
       "<xarray.DataArray 'features' (space: 40000, layer: 12)>\n",
       "array([[ -9.704037e+00,   2.302364e+00,   9.337710e-02, ...,  -1.832430e-01,\n",
       "         -7.772986e-01,   9.814206e-01],\n",
       "       [ -5.075029e-01,  -1.230547e+00,  -8.242737e-01, ...,   5.361044e-01,\n",
       "         -2.382748e-01,   1.219512e+00],\n",
       "       [  1.683114e+00,   7.286442e-01,   1.340088e+00, ...,  -3.936262e-02,\n",
       "          2.057063e-01,   1.466604e+00],\n",
       "       ..., \n",
       "       [ -6.645271e-02,   5.968537e+00,   4.999184e-01, ...,  -6.088668e-01,\n",
       "          1.129051e+00,  -9.138719e-03],\n",
       "       [ -8.539964e-01,  -1.349632e+00,  -1.904447e+00, ...,  -1.471173e+00,\n",
       "          2.768239e+00,   5.431708e-02],\n",
       "       [  1.026418e+00,   9.528835e-01,   1.729390e-01, ...,   1.819941e-01,\n",
       "          5.555479e-02,  -2.911281e-01]])\n",
       "Coordinates:\n",
       "  * space    (space) MultiIndex\n",
       "  - x        (space) int64 0 0 0 0 0 0 0 0 0 0 0 0 0 0 0 0 0 0 0 0 0 0 0 0 0 ...\n",
       "  - y        (space) int64 0 1 2 3 4 5 6 7 8 9 10 11 12 13 14 15 16 17 18 19 ...\n",
       "  * layer    (layer) object 'mndwi_37' 'mndwi_36' 'ndwi' 'ndvi' 'band_1' ..."
      ]
     },
     "execution_count": 30,
     "metadata": {},
     "output_type": "execute_result"
    }
   ],
   "source": [
    "catted.features"
   ]
  },
  {
   "cell_type": "code",
   "execution_count": 31,
   "metadata": {},
   "outputs": [
    {
     "data": {
      "text/plain": [
       "<xarray.DataArray 'layer' (layer: 12)>\n",
       "array(['mndwi_37', 'mndwi_36', 'ndwi', 'ndvi', 'band_1', 'band_2', 'band_3',\n",
       "       'band_4', 'band_5', 'band_6', 'band_7', 'band_8'], dtype=object)\n",
       "Coordinates:\n",
       "  * layer    (layer) object 'mndwi_37' 'mndwi_36' 'ndwi' 'ndvi' 'band_1' ..."
      ]
     },
     "execution_count": 31,
     "metadata": {},
     "output_type": "execute_result"
    }
   ],
   "source": [
    "catted.layer"
   ]
  },
  {
   "cell_type": "code",
   "execution_count": 32,
   "metadata": {},
   "outputs": [
    {
     "data": {
      "text/plain": [
       "<xarray.MLDataset>\n",
       "Dimensions:   (x: 200, y: 200)\n",
       "Coordinates:\n",
       "  * x         (x) int64 0 1 2 3 4 5 6 7 8 9 10 11 12 13 14 15 16 17 18 19 20 ...\n",
       "  * y         (y) int64 0 1 2 3 4 5 6 7 8 9 10 11 12 13 14 15 16 17 18 19 20 ...\n",
       "Data variables:\n",
       "    mndwi_37  (x, y) float64 -9.704 -0.5075 1.683 0.6344 2.064 0.09571 ...\n",
       "    mndwi_36  (x, y) float64 2.302 -1.231 0.7286 1.254 -0.3673 8.514 ...\n",
       "    ndwi      (x, y) float64 0.09338 -0.8243 1.34 -6.597 -0.6823 0.6389 ...\n",
       "    ndvi      (x, y) float64 0.4268 -0.007786 -0.8579 1.657 1.565 -0.6228 ...\n",
       "    band_1    (x, y) float64 0.5198 -1.781 -0.2804 -1.501 0.2069 -1.536 ...\n",
       "    band_2    (x, y) float64 1.636 -1.515 0.647 -0.259 -0.07859 -1.042 1.723 ...\n",
       "    band_3    (x, y) float64 0.6481 0.01808 -0.82 0.9569 -0.3674 1.732 ...\n",
       "    band_4    (x, y) float64 0.2751 -0.7244 1.688 0.3105 0.373 1.473 ...\n",
       "    band_5    (x, y) float64 0.5338 -0.7055 0.1548 -1.268 -1.476 0.2677 ...\n",
       "    band_6    (x, y) float64 -0.1832 0.5361 -0.03936 -0.145 -0.5835 -1.34 ...\n",
       "    band_7    (x, y) float64 -0.7773 -0.2383 0.2057 0.2167 0.03876 1.402 ...\n",
       "    band_8    (x, y) float64 0.9814 1.22 1.467 1.646 0.3285 1.242 -1.166 ..."
      ]
     },
     "execution_count": 32,
     "metadata": {},
     "output_type": "execute_result"
    }
   ],
   "source": [
    "catted.from_features()"
   ]
  },
  {
   "cell_type": "markdown",
   "metadata": {},
   "source": [
    "The following synthetic data example shows the logic above in this notebook can work for any number of dimensions, e.g. the 6-D `DataArray`s below:"
   ]
  },
  {
   "cell_type": "code",
   "execution_count": 33,
   "metadata": {},
   "outputs": [
    {
     "data": {
      "text/plain": [
       "<xarray.MLDataset>\n",
       "Dimensions:  (a: 2, b: 3, c: 4, d: 5, e: 6, f: 7)\n",
       "Coordinates:\n",
       "  * a        (a) int64 0 1\n",
       "  * b        (b) int64 0 1 2\n",
       "  * c        (c) int64 0 1 2 3\n",
       "  * d        (d) int64 0 1 2 3 4\n",
       "  * e        (e) int64 0 1 2 3 4 5\n",
       "  * f        (f) int64 0 1 2 3 4 5 6\n",
       "Data variables:\n",
       "    layer_0  (a, b, c, d, e, f) float64 -15.05 7.549 6.477 12.35 -7.569 ...\n",
       "    layer_1  (a, b, c, d, e, f) float64 2.809 -0.1019 -5.843 -12.14 12.3 ...\n",
       "    layer_2  (a, b, c, d, e, f) float64 0.1602 -1.019 3.215 -21.31 5.844 ...\n",
       "    layer_3  (a, b, c, d, e, f) float64 -6.403 -0.6729 5.94 -7.722 0.6715 ...\n",
       "    layer_4  (a, b, c, d, e, f) float64 -2.999 3.359 0.1273 14.33 -3.326 ...\n",
       "    layer_5  (a, b, c, d, e, f) float64 -23.13 13.51 -1.654 -12.14 -24.53 ..."
      ]
     },
     "execution_count": 33,
     "metadata": {},
     "output_type": "execute_result"
    }
   ],
   "source": [
    "shp = (2, 3, 4, 5, 6, 7)\n",
    "dims = ('a', 'b', 'c', 'd', 'e', 'f')\n",
    "coords = OrderedDict([(dim, np.arange(s)) for s, dim in zip(shp, dims)])\n",
    "dset = MLDataset(OrderedDict([('layer_{}'.format(idx), \n",
    "                               xr.DataArray(np.random.normal(0, 10, shp),\n",
    "                                            coords=coords,\n",
    "                                            dims=dims)) \n",
    "                              for idx in range(6)]))\n",
    "dset"
   ]
  },
  {
   "cell_type": "code",
   "execution_count": 34,
   "metadata": {},
   "outputs": [
    {
     "data": {
      "text/plain": [
       "(2, 3, 4, 5, 6, 7)"
      ]
     },
     "execution_count": 34,
     "metadata": {},
     "output_type": "execute_result"
    }
   ],
   "source": [
    "dset.layer_0.shape"
   ]
  },
  {
   "cell_type": "markdown",
   "metadata": {},
   "source": [
    "With 6-D `DataArray`s, calling `to_features` creates a `pandas.MultiIndex` with 6 components:"
   ]
  },
  {
   "cell_type": "code",
   "execution_count": 35,
   "metadata": {},
   "outputs": [
    {
     "data": {
      "text/plain": [
       "<xarray.MLDataset>\n",
       "Dimensions:   (layer: 6, space: 5040)\n",
       "Coordinates:\n",
       "  * space     (space) MultiIndex\n",
       "  - a         (space) int64 0 0 0 0 0 0 0 0 0 0 0 0 0 0 0 0 0 0 0 0 0 0 0 0 ...\n",
       "  - b         (space) int64 0 0 0 0 0 0 0 0 0 0 0 0 0 0 0 0 0 0 0 0 0 0 0 0 ...\n",
       "  - c         (space) int64 0 0 0 0 0 0 0 0 0 0 0 0 0 0 0 0 0 0 0 0 0 0 0 0 ...\n",
       "  - d         (space) int64 0 0 0 0 0 0 0 0 0 0 0 0 0 0 0 0 0 0 0 0 0 0 0 0 ...\n",
       "  - e         (space) int64 0 0 0 0 0 0 0 1 1 1 1 1 1 1 2 2 2 2 2 2 2 3 3 3 ...\n",
       "  - f         (space) int64 0 1 2 3 4 5 6 0 1 2 3 4 5 6 0 1 2 3 4 5 6 0 1 2 ...\n",
       "  * layer     (layer) object 'layer_0' 'layer_1' 'layer_2' 'layer_3' ...\n",
       "Data variables:\n",
       "    features  (space, layer) float64 -15.05 2.809 0.1602 -6.403 -2.999 ..."
      ]
     },
     "execution_count": 35,
     "metadata": {},
     "output_type": "execute_result"
    }
   ],
   "source": [
    "dset.to_features()"
   ]
  },
  {
   "cell_type": "markdown",
   "metadata": {},
   "source": [
    "The following cells demonstrate `MLDataset.chain` is the same as calling `.pipe` several times in sequence."
   ]
  },
  {
   "cell_type": "code",
   "execution_count": 36,
   "metadata": {
    "collapsed": true
   },
   "outputs": [],
   "source": [
    "@for_each_array\n",
    "def example_agg(arr, dim=None):\n",
    "    return arr.std(dim=dim)\n",
    "\n",
    "@data_vars_func\n",
    "def layers_example_with_kw(**kw):\n",
    "    new = OrderedDict([('new_layer_100', kw['layer_3'] + kw['layer_4'])])\n",
    "    new.update(kw)\n",
    "    return MLDataset(new)\n",
    "\n",
    "@data_vars_func\n",
    "def layers_example_named_args(layer_1, layer_2, new_layer_100):\n",
    "    return MLDataset(OrderedDict([('final', new_layer_100 / (layer_1 + layer_2))]))\n"
   ]
  },
  {
   "cell_type": "code",
   "execution_count": 37,
   "metadata": {},
   "outputs": [
    {
     "data": {
      "text/plain": [
       "<xarray.MLDataset>\n",
       "Dimensions:   (layer: 1, space: 840)\n",
       "Coordinates:\n",
       "  * space     (space) MultiIndex\n",
       "  - c         (space) int64 0 0 0 0 0 0 0 0 0 0 0 0 0 0 0 0 0 0 0 0 0 0 0 0 ...\n",
       "  - d         (space) int64 0 0 0 0 0 0 0 0 0 0 0 0 0 0 0 0 0 0 0 0 0 0 0 0 ...\n",
       "  - e         (space) int64 0 0 0 0 0 0 0 1 1 1 1 1 1 1 2 2 2 2 2 2 2 3 3 3 ...\n",
       "  - f         (space) int64 0 1 2 3 4 5 6 0 1 2 3 4 5 6 0 1 2 3 4 5 6 0 1 2 ...\n",
       "  * layer     (layer) object 'final'\n",
       "Data variables:\n",
       "    features  (space, layer) float64 2.567 3.789 0.2975 0.4185 1.367 1.571 ..."
      ]
     },
     "execution_count": 37,
     "metadata": {},
     "output_type": "execute_result"
    }
   ],
   "source": [
    "dset.pipe(example_agg, dim='a'\n",
    "         ).pipe(example_agg, dim='b'\n",
    "               ).pipe(layers_example_with_kw\n",
    "                     ).pipe(layers_example_named_args).to_features()"
   ]
  },
  {
   "cell_type": "code",
   "execution_count": 38,
   "metadata": {},
   "outputs": [
    {
     "data": {
      "text/plain": [
       "<xarray.MLDataset>\n",
       "Dimensions:   (layer: 1, space: 840)\n",
       "Coordinates:\n",
       "  * space     (space) MultiIndex\n",
       "  - c         (space) int64 0 0 0 0 0 0 0 0 0 0 0 0 0 0 0 0 0 0 0 0 0 0 0 0 ...\n",
       "  - d         (space) int64 0 0 0 0 0 0 0 0 0 0 0 0 0 0 0 0 0 0 0 0 0 0 0 0 ...\n",
       "  - e         (space) int64 0 0 0 0 0 0 0 1 1 1 1 1 1 1 2 2 2 2 2 2 2 3 3 3 ...\n",
       "  - f         (space) int64 0 1 2 3 4 5 6 0 1 2 3 4 5 6 0 1 2 3 4 5 6 0 1 2 ...\n",
       "  * layer     (layer) object 'final'\n",
       "Data variables:\n",
       "    features  (space, layer) float64 2.567 3.789 0.2975 0.4185 1.367 1.571 ..."
      ]
     },
     "execution_count": 38,
     "metadata": {},
     "output_type": "execute_result"
    }
   ],
   "source": [
    "dset.chain([(example_agg, dict(dim='a')),\n",
    "             (example_agg, dict(dim='b')),\n",
    "             layers_example_with_kw,\n",
    "             layers_example_named_args,\n",
    "            ]).to_features()"
   ]
  },
  {
   "cell_type": "code",
   "execution_count": null,
   "metadata": {
    "collapsed": true
   },
   "outputs": [],
   "source": []
  }
 ],
 "metadata": {
  "kernelspec": {
   "display_name": "Python 3",
   "language": "python",
   "name": "python3"
  },
  "language_info": {
   "codemirror_mode": {
    "name": "ipython",
    "version": 3
   },
   "file_extension": ".py",
   "mimetype": "text/x-python",
   "name": "python",
   "nbconvert_exporter": "python",
   "pygments_lexer": "ipython3",
   "version": "3.5.3"
  }
 },
 "nbformat": 4,
 "nbformat_minor": 2
}
