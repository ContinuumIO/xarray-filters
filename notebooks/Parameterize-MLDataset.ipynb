{
 "cells": [
  {
   "cell_type": "markdown",
   "metadata": {},
   "source": [
    "### Pipeline outside of ML\n",
    "\n",
    "This notebook shows some trial and error to create a `Pipeline` that can be used with `xarray_filters`.  \n",
    "\n",
    "This is a continuation of goals in [Elm issue #149](https://github.com/ContinuumIO/elm/issues/149) to separate ML from GIS utils."
   ]
  },
  {
   "cell_type": "markdown",
   "metadata": {},
   "source": [
    "The goal is to be able to run something like this:\n",
    "```\n",
    "from xarray_filters.pipeline import Pipeline\n",
    "from xarary_filters.steps import Generic, Serialize\n",
    "def step_1(dset, **kw):\n",
    "    return kw['a'] * dset.mean(dim=('x', 'y')) ** kw['b']\n",
    "\n",
    "def step_2(dset, **kw):\n",
    "    return kw['a'] + dset * kw['b']\n",
    "    \n",
    "steps = (('s1', Generic(step_1)),\n",
    "         ('s2', Generic(step_2)),\n",
    "         ('s3', Serialize('two_step_pipeline_out.nc')))\n",
    "pipe = Pipeline(steps=steps)\n",
    "pipe.set_params(s1__a=2,\n",
    "                s1__b=3,\n",
    "                s2__a=0,\n",
    "                s2__b=0,\n",
    "                s3__fname='file_with_zeros.nc')\n",
    "pipe.fit_transform(X)\n",
    "```\n",
    " * The example above uses scikit-learn `set_params` style of setting parameters where:\n",
    "   * Steps in the `Pipeline` are named, `s1`, `s2`, and `s3` in this case\n",
    "   * Double underscore notation is used to pass parameters to the `set_params` method of a given step.  Here:\n",
    "     * `a` and `b` are parameters accepted by `step_1` and `step_2`\n",
    "     * `fname` is accepted by `Serialize`\n",
    "   * The `Dataset` or `MLDataset` `X` is run through the 3 steps\n",
    "   * Note the import statements with `xarray_filters` at top of snippet is what we need to do based on this notebook\n",
    "* Classes formerly part of `elm.pipeline.steps` will now inherit from `sklearn.base.BaseEstimator`\n"
   ]
  },
  {
   "cell_type": "code",
   "execution_count": 1,
   "metadata": {},
   "outputs": [],
   "source": [
    "from sklearn.base import BaseEstimator\n",
    "from sklearn.utils.metaestimators import _BaseComposition\n",
    "from sklearn.pipeline import Pipeline as _Pipeline\n",
    "from xarray_filters import MLDataset\n",
    "from xarray_filters.tests.test_data import new_test_dataset\n",
    "\n",
    "class Pipeline(_Pipeline):\n",
    "\n",
    "    def __init__(self, dset=None,\n",
    "                       steps=None,\n",
    "                       param_grid=None,\n",
    "                       memory=None):\n",
    "        _Pipeline.__init__(self, steps, memory=memory)\n",
    "        self.dset = dset\n",
    "        self.param_grid = param_grid\n",
    "        \n",
    "    def _get_params_by_id(self, param_grid_id, **params):\n",
    "        if self.param_grid:\n",
    "            if param_grid_id is None:\n",
    "                return params\n",
    "            params2 = self.param_grid.get(param_grid_id, {})\n",
    "        else:\n",
    "            params2 = {}\n",
    "        params2.update(params)\n",
    "        return params2\n",
    "    \n",
    "    def fit_transform(self, dset=None, param_grid_id=None):\n",
    "        params = self._get_params_by_id(param_grid_id)\n",
    "        self.set_params(**params)\n",
    "        if dset is None:\n",
    "            dset = self.dset\n",
    "        for name, step in self.steps:\n",
    "            params['dset'] = dset\n",
    "            dset = step.fit_transform(**params)\n",
    "        return dset"
   ]
  },
  {
   "cell_type": "code",
   "execution_count": 2,
   "metadata": {},
   "outputs": [],
   "source": [
    "class StepBase(BaseEstimator):\n",
    "    def __init__(self, func=None):\n",
    "        self.func = func\n",
    "            \n",
    "    def fit_transform(self, dset, **kw):\n",
    "        params = self.get_params()\n",
    "        return self.func(dset, **params)\n",
    "    def fit(self, *args, **kw):\n",
    "        return self.fit_transform(*args, **kw)\n",
    "    def transform(self, *args, **kw):\n",
    "        return self.fit_transform(*args, **kw)\n",
    "\n",
    "    \n",
    "class Generic(StepBase):\n",
    "    def __init__(self, func=None, a=None, b=None):\n",
    "        self.a = a\n",
    "        self.b = b\n",
    "        super(Generic, self).__init__(func=func)\n",
    "            \n",
    "    def fit_transform(self, dset, **kw):\n",
    "        params = self.get_params()\n",
    "        return self.func(dset=dset, **params)\n",
    "    fit = transform = fit_transform\n",
    "\n",
    "\n",
    "class Serialize(StepBase):\n",
    "    def __init__(self, fname, as_netcdf=True):\n",
    "        self.fname = fname\n",
    "        self.as_netcdf = as_netcdf\n",
    "    \n",
    "    def fit_transform(self, dset):\n",
    "        if self.as_netcdf:\n",
    "            fname = self.get_params()['fname']\n",
    "            dset.to_netcdf(fname)\n",
    "            return dset\n",
    "        else:\n",
    "            pass # TODO other serializers?"
   ]
  },
  {
   "cell_type": "code",
   "execution_count": 3,
   "metadata": {},
   "outputs": [
    {
     "data": {
      "text/plain": [
       "<xarray.MLDataset>\n",
       "Dimensions:      (t: 48, x: 20, y: 15, z: 8)\n",
       "Coordinates:\n",
       "  * x            (x) int64 0 1 2 3 4 5 6 7 8 9 10 11 12 13 14 15 16 17 18 19\n",
       "  * y            (y) int64 0 1 2 3 4 5 6 7 8 9 10 11 12 13 14\n",
       "  * z            (z) int64 0 1 2 3 4 5 6 7\n",
       "  * t            (t) int64 0 1 2 3 4 5 6 7 8 9 10 11 12 13 14 15 16 17 18 19 ...\n",
       "Data variables:\n",
       "    wind         (x, y, z, t) float64 0.5595 0.1951 0.7879 0.167 0.2586 ...\n",
       "    pressure     (x, y, z, t) float64 0.6193 0.9228 0.3936 0.9875 0.5534 ...\n",
       "    temperature  (x, y, z, t) float64 0.1323 0.1877 0.1207 0.5448 0.787 ..."
      ]
     },
     "execution_count": 3,
     "metadata": {},
     "output_type": "execute_result"
    }
   ],
   "source": [
    "X = new_test_dataset(('wind', 'pressure', 'temperature',))\n",
    "X"
   ]
  },
  {
   "cell_type": "code",
   "execution_count": 4,
   "metadata": {
    "collapsed": true
   },
   "outputs": [],
   "source": [
    "def step_1(dset, **kw):\n",
    "    return kw['a'] * dset.mean(dim=('x', 'y')) ** kw['b']\n",
    "\n",
    "def step_2(dset, **kw):\n",
    "    return kw['a'] + dset * kw['b']\n",
    "\n",
    "steps = (('s1', Generic(step_1)),\n",
    "         ('s2', Generic(step_2)),\n",
    "         ('s3', Serialize('two_step_pipeline_out.nc')))"
   ]
  },
  {
   "cell_type": "code",
   "execution_count": 5,
   "metadata": {},
   "outputs": [],
   "source": [
    "(_, s1), _, _ = steps"
   ]
  },
  {
   "cell_type": "code",
   "execution_count": 6,
   "metadata": {},
   "outputs": [
    {
     "data": {
      "text/plain": [
       "<xarray.DataArray 'temperature' (z: 8, t: 48)>\n",
       "array([[ 0.485309,  0.535802,  0.478572, ...,  0.482235,  0.500192,  0.528511],\n",
       "       [ 0.51283 ,  0.466976,  0.494062, ...,  0.516987,  0.534294,  0.489226],\n",
       "       [ 0.501738,  0.497614,  0.547956, ...,  0.525608,  0.498681,  0.546163],\n",
       "       ..., \n",
       "       [ 0.482539,  0.458152,  0.517765, ...,  0.533589,  0.517806,  0.484971],\n",
       "       [ 0.517204,  0.540091,  0.587889, ...,  0.491527,  0.469517,  0.472836],\n",
       "       [ 0.507857,  0.533116,  0.420788, ...,  0.472987,  0.490202,  0.463831]])\n",
       "Coordinates:\n",
       "  * z        (z) int64 0 1 2 3 4 5 6 7\n",
       "  * t        (t) int64 0 1 2 3 4 5 6 7 8 9 10 11 12 13 14 15 16 17 18 19 20 ..."
      ]
     },
     "execution_count": 6,
     "metadata": {},
     "output_type": "execute_result"
    }
   ],
   "source": [
    "s1.set_params(a=0, b=0)\n",
    "ones = s1.fit_transform(X)\n",
    "s1.set_params(a=2, b=2)\n",
    "other = s1.fit_transform(X)\n",
    "other.temperature - ones.temperature"
   ]
  },
  {
   "cell_type": "code",
   "execution_count": 7,
   "metadata": {},
   "outputs": [],
   "source": [
    "pipe = Pipeline(steps=steps)"
   ]
  },
  {
   "cell_type": "code",
   "execution_count": 8,
   "metadata": {},
   "outputs": [
    {
     "data": {
      "text/plain": [
       "Pipeline(dset=None, memory=None, param_grid=None,\n",
       "     steps=(('s1', Generic(a=2, b=2, func=<function step_1 at 0x10d33ed90>)), ('s2', Generic(a=None, b=None, func=<function step_2 at 0x10d33ee18>)), ('s3', Serialize(as_netcdf=True, fname='two_step_pipeline_out.nc'))))"
      ]
     },
     "execution_count": 8,
     "metadata": {},
     "output_type": "execute_result"
    }
   ],
   "source": [
    "pipe"
   ]
  },
  {
   "cell_type": "code",
   "execution_count": 9,
   "metadata": {},
   "outputs": [
    {
     "data": {
      "text/plain": [
       "<xarray.MLDataset>\n",
       "Dimensions:      (t: 48, z: 8)\n",
       "Coordinates:\n",
       "  * z            (z) int64 0 1 2 3 4 5 6 7\n",
       "  * t            (t) int64 0 1 2 3 4 5 6 7 8 9 10 11 12 13 14 15 16 17 18 19 ...\n",
       "Data variables:\n",
       "    wind         (z, t) float64 0.0 0.0 0.0 0.0 0.0 0.0 0.0 0.0 0.0 0.0 0.0 ...\n",
       "    pressure     (z, t) float64 0.0 0.0 0.0 0.0 0.0 0.0 0.0 0.0 0.0 0.0 0.0 ...\n",
       "    temperature  (z, t) float64 0.0 0.0 0.0 0.0 0.0 0.0 0.0 0.0 0.0 0.0 0.0 ..."
      ]
     },
     "execution_count": 9,
     "metadata": {},
     "output_type": "execute_result"
    }
   ],
   "source": [
    "pipe.set_params(s1__a=2, s1__b=3, s2__a=0, s2__b=0, s3__fname='file_with_zeros.nc')\n",
    "pipe.fit_transform(X)"
   ]
  },
  {
   "cell_type": "code",
   "execution_count": 10,
   "metadata": {},
   "outputs": [
    {
     "data": {
      "text/plain": [
       "<xarray.MLDataset>\n",
       "Dimensions:      (t: 48, z: 8)\n",
       "Coordinates:\n",
       "  * z            (z) int64 0 1 2 3 4 5 6 7\n",
       "  * t            (t) int64 0 1 2 3 4 5 6 7 8 9 10 11 12 13 14 15 16 17 18 19 ...\n",
       "Data variables:\n",
       "    wind         (z, t) float64 1.3 1.278 1.252 1.241 1.239 1.26 1.308 1.248 ...\n",
       "    pressure     (z, t) float64 1.273 1.255 1.269 1.25 1.224 1.247 1.255 ...\n",
       "    temperature  (z, t) float64 1.239 1.277 1.234 1.242 1.229 1.217 1.193 ..."
      ]
     },
     "execution_count": 10,
     "metadata": {},
     "output_type": "execute_result"
    }
   ],
   "source": [
    "pipe.set_params(s1__a=2, s1__b=3, s2__a=1, s2__b=1, s3__fname='file_nonzero.nc')\n",
    "pipe.fit_transform(X)"
   ]
  },
  {
   "cell_type": "code",
   "execution_count": 11,
   "metadata": {},
   "outputs": [
    {
     "name": "stdout",
     "output_type": "stream",
     "text": [
      "-rw-r--r--  1 psteinberg  staff  18977 Sep  8 15:24 file_nonzero.nc\r\n",
      "-rw-r--r--  1 psteinberg  staff  18977 Sep  8 15:24 file_with_zeros.nc\r\n"
     ]
    }
   ],
   "source": [
    "! ls -l *.nc"
   ]
  },
  {
   "cell_type": "code",
   "execution_count": null,
   "metadata": {},
   "outputs": [],
   "source": []
  },
  {
   "cell_type": "code",
   "execution_count": null,
   "metadata": {
    "collapsed": true
   },
   "outputs": [],
   "source": [
    "pipe"
   ]
  }
 ],
 "metadata": {
  "kernelspec": {
   "display_name": "Python 3",
   "language": "python",
   "name": "python3"
  },
  "language_info": {
   "codemirror_mode": {
    "name": "ipython",
    "version": 3
   },
   "file_extension": ".py",
   "mimetype": "text/x-python",
   "name": "python",
   "nbconvert_exporter": "python",
   "pygments_lexer": "ipython3",
   "version": "3.5.3"
  }
 },
 "nbformat": 4,
 "nbformat_minor": 2
}
