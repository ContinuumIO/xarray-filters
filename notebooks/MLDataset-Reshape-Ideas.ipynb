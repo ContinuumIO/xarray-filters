{
 "cells": [
  {
   "cell_type": "code",
   "execution_count": null,
   "metadata": {},
   "outputs": [],
   "source": [
    "import numpy as np\n",
    "import xarray as xr\n",
    "from xarray_filters import *"
   ]
  },
  {
   "cell_type": "code",
   "execution_count": null,
   "metadata": {},
   "outputs": [],
   "source": [
    "from xarray_filters.tests.test_data import new_test_dataset"
   ]
  },
  {
   "cell_type": "code",
   "execution_count": null,
   "metadata": {
    "collapsed": true
   },
   "outputs": [],
   "source": [
    "X = new_test_dataset(layers=('temperature', 'pressure', 'wind_x', 'wind_y'))"
   ]
  },
  {
   "cell_type": "code",
   "execution_count": null,
   "metadata": {},
   "outputs": [],
   "source": [
    "X"
   ]
  },
  {
   "cell_type": "code",
   "execution_count": null,
   "metadata": {},
   "outputs": [],
   "source": [
    "set(dir(MLDataset)) - set(dir(xr.Dataset))"
   ]
  },
  {
   "cell_type": "code",
   "execution_count": null,
   "metadata": {},
   "outputs": [],
   "source": [
    "X_means_raster = X.mean(dim=('z', 't'))\n",
    "X_means_raster"
   ]
  },
  {
   "cell_type": "code",
   "execution_count": null,
   "metadata": {},
   "outputs": [],
   "source": [
    "f = X.to_ml_features()\n",
    "f"
   ]
  },
  {
   "cell_type": "code",
   "execution_count": null,
   "metadata": {},
   "outputs": [],
   "source": [
    "f.space"
   ]
  },
  {
   "cell_type": "code",
   "execution_count": null,
   "metadata": {},
   "outputs": [],
   "source": [
    "f.layer"
   ]
  },
  {
   "cell_type": "code",
   "execution_count": null,
   "metadata": {},
   "outputs": [],
   "source": [
    "f.space.indexes['space'].tolist()[:4]"
   ]
  },
  {
   "cell_type": "code",
   "execution_count": null,
   "metadata": {},
   "outputs": [],
   "source": [
    "f.space.indexes['space'].names"
   ]
  },
  {
   "cell_type": "code",
   "execution_count": null,
   "metadata": {
    "collapsed": true
   },
   "outputs": [],
   "source": []
  },
  {
   "cell_type": "code",
   "execution_count": null,
   "metadata": {},
   "outputs": [],
   "source": [
    "example2 = X.mean(dim='x').to_ml_features(trans_dims=('t', 'z', 'y'))\n",
    "example2"
   ]
  },
  {
   "cell_type": "code",
   "execution_count": null,
   "metadata": {},
   "outputs": [],
   "source": [
    "@data_vars_kwargs\n",
    "def magnitude(wind_x, wind_y, **other_data_vars):\n",
    "    a2 = wind_x ** 2\n",
    "    b2 = wind_y ** 2\n",
    "    mag = (a2 + b2) ** 0.5\n",
    "    return dict(magnitude=mag)\n",
    "X.new_layer(name='magnitude', layers=['wind_x', 'wind_y'], transforms=magnitude).compute()"
   ]
  },
  {
   "cell_type": "code",
   "execution_count": null,
   "metadata": {},
   "outputs": [],
   "source": [
    "@for_each_array\n",
    "def plus_one(arr, **kw):\n",
    "    return arr + 1\n",
    "\n",
    "@for_each_array\n",
    "def minus_one(arr, **kw):\n",
    "    return arr - 1\n",
    "\n",
    "\n",
    "plus = X.new_layer(transforms=plus_one, compute=True)\n",
    "minus = X.new_layer(transforms=minus_one, compute=True)\n",
    "\n",
    "assert np.all(plus.wind_x - minus.wind_x == 2.)\n",
    "assert np.all(plus.temperature - minus.temperature == 2.)"
   ]
  },
  {
   "cell_type": "code",
   "execution_count": null,
   "metadata": {},
   "outputs": [],
   "source": [
    "@return_dataset\n",
    "@for_each_array\n",
    "def transform_example(arr, **kw):\n",
    "    up = arr.quantile(0.75, dim='z')\n",
    "    low = arr.quantile(0.25, dim='z')\n",
    "    median = arr.quantile(0.5, dim='z')\n",
    "    return (arr - median) / (up - low)\n",
    "\n",
    "X.new_layer(transforms=transform_example, compute=True, return_dict=False)"
   ]
  },
  {
   "cell_type": "code",
   "execution_count": null,
   "metadata": {},
   "outputs": [],
   "source": [
    "@return_dataset\n",
    "@for_each_array\n",
    "def agg_example(arr, **kw):\n",
    "    return arr.mean(dim='t').quantile(0.25, dim='z')\n",
    "\n",
    "aggregated = X.new_layer(transforms=(transform_example, agg_example), compute=True)"
   ]
  },
  {
   "cell_type": "code",
   "execution_count": null,
   "metadata": {},
   "outputs": [],
   "source": [
    "aggregated"
   ]
  },
  {
   "cell_type": "code",
   "execution_count": null,
   "metadata": {},
   "outputs": [],
   "source": [
    "from functools import partial\n",
    "@for_each_array\n",
    "def f(arr, **kw):\n",
    "    return arr + 1\n",
    "\n",
    "(f(aggregated) - aggregated)"
   ]
  },
  {
   "cell_type": "code",
   "execution_count": null,
   "metadata": {},
   "outputs": [],
   "source": [
    "from collections import OrderedDict\n",
    "@return_dataset\n",
    "@data_vars_kwargs\n",
    "def f(wind_x, wind_y, temperature, pressure):\n",
    "    mag = (wind_x ** 2 + wind_y ** 2) ** 0.5\n",
    "    return OrderedDict([('mag', mag), ('temperature', temperature), ('pressure', pressure)])\n",
    "\n",
    "f(X)"
   ]
  },
  {
   "cell_type": "code",
   "execution_count": null,
   "metadata": {},
   "outputs": [],
   "source": [
    "feat = f(X).to_ml_features()\n",
    "feat"
   ]
  },
  {
   "cell_type": "code",
   "execution_count": null,
   "metadata": {},
   "outputs": [],
   "source": [
    "feat.features"
   ]
  },
  {
   "cell_type": "code",
   "execution_count": null,
   "metadata": {},
   "outputs": [],
   "source": [
    "feat.features.values"
   ]
  },
  {
   "cell_type": "code",
   "execution_count": null,
   "metadata": {
    "scrolled": false
   },
   "outputs": [],
   "source": [
    "@for_each_array\n",
    "def agg_x(arr, **kw):\n",
    "    return arr.mean(dim='x')\n",
    "@for_each_array\n",
    "def agg_y(arr, **kw):\n",
    "    return arr.mean(dim='y')\n",
    "@for_each_array\n",
    "def agg_z(arr, **kw):\n",
    "    return arr.mean(dim='z')\n",
    "\n",
    "\n",
    "time_series = X.new_layer(transforms=(agg_x, agg_y, agg_z), flatten=False, compute=True)\n",
    "time_series"
   ]
  },
  {
   "cell_type": "code",
   "execution_count": null,
   "metadata": {},
   "outputs": [],
   "source": [
    "%matplotlib inline\n",
    "for k, arr in time_series.data_vars.items():\n",
    "    arr.plot.line();"
   ]
  },
  {
   "cell_type": "code",
   "execution_count": null,
   "metadata": {},
   "outputs": [],
   "source": [
    "time_series.to_ml_features().features"
   ]
  },
  {
   "cell_type": "code",
   "execution_count": null,
   "metadata": {},
   "outputs": [],
   "source": [
    "np.all(time_series.to_ml_features().from_ml_features().temperature == time_series.temperature)"
   ]
  },
  {
   "cell_type": "code",
   "execution_count": null,
   "metadata": {},
   "outputs": [],
   "source": [
    "layers = ['band_{}'.format(idx) for idx in range(1, 9)]\n",
    "shape = (200, 200)\n",
    "rand_np_arr = lambda: np.random.normal(0, 1, shape)\n",
    "coords = [('x', np.arange(shape[0])), ('y', np.arange(shape[1]))]\n",
    "rand_data_arr = lambda: xr.DataArray(rand_np_arr(), coords=coords, dims=('x', 'y'))\n",
    "data_vars = OrderedDict([(layer, rand_data_arr()) for layer in layers])\n",
    "dset = MLDataset(data_vars)\n",
    "dset"
   ]
  },
  {
   "cell_type": "code",
   "execution_count": null,
   "metadata": {
    "scrolled": false
   },
   "outputs": [],
   "source": [
    "@for_each_array\n",
    "def standardize(arr, dim=None, **kw):\n",
    "    mean = arr.mean(dim=dim)\n",
    "    std = arr.std(dim=dim)\n",
    "    return (arr - mean) / std\n",
    "\n",
    "@data_vars_kwargs\n",
    "def ndvi(band_5, band_4):\n",
    "    return OrderedDict([('ndvi', (band_5 - band_4) / (band_5 + band_4))])\n",
    "\n",
    "@data_vars_kwargs\n",
    "def ndwi(band_3, band_5):\n",
    "    return {'ndwi': (band_3 - band_5) / (band_3 + band_5)}\n",
    "\n",
    "@data_vars_kwargs\n",
    "def mndwi_36(band_3, band_6):\n",
    "    return xr.Dataset({'mndwi_36': (band_3 - band_6) / (band_3 + band_6)})\n",
    "\n",
    "@data_vars_kwargs\n",
    "def mndwi_37(band_3, band_7):\n",
    "    return MLDataset(OrderedDict([('mndwi_37', (band_3 - band_7) / (band_3 + band_7))]))\n",
    "\n",
    "normed_diffs = dset.new_layer(name=None,\n",
    "                              transforms=(ndvi, ndwi, mndwi_36, mndwi_37),\n",
    "                              compute=True,\n",
    "                              keep_existing_layers=False,\n",
    "                              flatten=False)\n",
    "standardized = dset.new_layer(transforms=partial(standardize, dim='x'), flatten=False, compute=True)\n"
   ]
  },
  {
   "cell_type": "code",
   "execution_count": null,
   "metadata": {},
   "outputs": [],
   "source": [
    "normed_diffs"
   ]
  },
  {
   "cell_type": "code",
   "execution_count": null,
   "metadata": {},
   "outputs": [],
   "source": [
    "standardized"
   ]
  },
  {
   "cell_type": "code",
   "execution_count": null,
   "metadata": {},
   "outputs": [],
   "source": [
    "catted = merge((normed_diffs, standardized)) # merge from xarray_filters\n",
    "catted = catted.to_ml_features()"
   ]
  },
  {
   "cell_type": "code",
   "execution_count": null,
   "metadata": {},
   "outputs": [],
   "source": [
    "catted.features"
   ]
  },
  {
   "cell_type": "code",
   "execution_count": null,
   "metadata": {},
   "outputs": [],
   "source": [
    "catted.layer"
   ]
  },
  {
   "cell_type": "code",
   "execution_count": null,
   "metadata": {},
   "outputs": [],
   "source": [
    "catted.from_ml_features()"
   ]
  },
  {
   "cell_type": "code",
   "execution_count": null,
   "metadata": {},
   "outputs": [],
   "source": [
    "shp = (2, 3, 4, 5, 6, 7)\n",
    "dims = ('a', 'b', 'c', 'd', 'e', 'f')\n",
    "coords = OrderedDict([(dim, np.arange(s)) for s, dim in zip(shp, dims)])\n",
    "dset = MLDataset(OrderedDict([('layer_{}'.format(idx), xr.DataArray(np.random.normal(0, 10, shp), coords=coords, dims=dims)) \n",
    "                              for idx in range(6)]))\n",
    "dset"
   ]
  },
  {
   "cell_type": "code",
   "execution_count": null,
   "metadata": {},
   "outputs": [],
   "source": [
    "dset.layer_0.shape"
   ]
  },
  {
   "cell_type": "code",
   "execution_count": null,
   "metadata": {},
   "outputs": [],
   "source": [
    "dset.to_ml_features()"
   ]
  },
  {
   "cell_type": "code",
   "execution_count": null,
   "metadata": {
    "collapsed": true
   },
   "outputs": [],
   "source": []
  }
 ],
 "metadata": {
  "kernelspec": {
   "display_name": "Python 3",
   "language": "python",
   "name": "python3"
  },
  "language_info": {
   "codemirror_mode": {
    "name": "ipython",
    "version": 3
   },
   "file_extension": ".py",
   "mimetype": "text/x-python",
   "name": "python",
   "nbconvert_exporter": "python",
   "pygments_lexer": "ipython3",
   "version": "3.5.3"
  }
 },
 "nbformat": 4,
 "nbformat_minor": 2
}
